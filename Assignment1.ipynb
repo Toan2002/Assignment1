{
 "cells": [
  {
   "cell_type": "code",
   "execution_count": null,
   "metadata": {},
   "outputs": [],
   "source": []
  },
  {
   "cell_type": "markdown",
   "metadata": {},
   "source": [
    "# **Assignment 1 - Group 7*"
   ]
  },
  {
   "cell_type": "markdown",
   "metadata": {},
   "source": [
    "## Corpra \n",
    "This assignment uses texts from 3 different genres: ...\n",
    "\n",
    "Sources:\n",
    "https://sherlock-holm.es/stories/plain-text/cano.txt\n"
   ]
  },
  {
   "cell_type": "code",
   "execution_count": 1,
   "metadata": {},
   "outputs": [],
   "source": [
    "import nltk\n",
    "import numpy\n",
    "import matplotlib\n",
    "import os\n",
    "import re"
   ]
  },
  {
   "cell_type": "code",
   "execution_count": 90,
   "metadata": {},
   "outputs": [],
   "source": [
    "# collect of corpus in Corpora into a list\n",
    "corpusList = os.listdir(os.getcwd() + \"/Corpora/\")"
   ]
  },
  {
   "cell_type": "code",
   "execution_count": 122,
   "metadata": {},
   "outputs": [
    {
     "name": "stdout",
     "output_type": "stream",
     "text": [
      "The length of cleaned macbethspoken.txt is 16708\n",
      "The length of cleaned SherlockHolmes.txt is 668869\n"
     ]
    }
   ],
   "source": [
    "# remove all punctuations and get length\n",
    "def cleanedLength(corpus):\n",
    "    with open(\"./Corpora/\" + corpus, 'r') as f:\n",
    "        text = f.read()\n",
    "        cleaned = re.sub(\" *[^\\w\\s]+\", \" \", text)\n",
    "        length = len(cleaned.split())\n",
    "    return length\n",
    "\n",
    "# print result\n",
    "for corpus in corpusList:\n",
    "    print(\"The length of cleaned {} is {}\".format(corpus, cleanedLength(corpus)))\n"
   ]
  },
  {
   "cell_type": "code",
   "execution_count": 127,
   "metadata": {},
   "outputs": [
    {
     "name": "stdout",
     "output_type": "stream",
     "text": [
      "The lexical diversity of macbethspoken.txt is 0.18996888\n",
      "The lexical diversity of SherlockHolmes.txt is 0.02869172\n"
     ]
    }
   ],
   "source": [
    "# define lexical diversity function\n",
    "def lexDiv(corpus):\n",
    "    with open(\"./Corpora/\" + corpus, 'r') as f:\n",
    "        text = f.read()\n",
    "        cleaned = re.sub(\" *[^\\w\\s]+\", \" \", text)\n",
    "        wordList = cleaned.split()\n",
    "        tokens = len(wordList)\n",
    "        types = len(set(w.lower() for w in wordList))\n",
    "    return types / tokens\n",
    "\n",
    "# print result\n",
    "for corpus in corpusList:\n",
    "    print(\"The lexical diversity of {} is {:.8f}\".format(corpus,lexDiv(corpus)))\n"
   ]
  },
  {
   "cell_type": "raw",
   "metadata": {},
   "source": []
  },
  {
   "cell_type": "code",
   "execution_count": null,
   "metadata": {},
   "outputs": [],
   "source": []
  }
 ],
 "metadata": {
  "kernelspec": {
   "display_name": "Python 3 (ipykernel)",
   "language": "python",
   "name": "python3"
  },
  "language_info": {
   "codemirror_mode": {
    "name": "ipython",
    "version": 3
   },
   "file_extension": ".py",
   "mimetype": "text/x-python",
   "name": "python",
   "nbconvert_exporter": "python",
   "pygments_lexer": "ipython3",
   "version": "3.9.13"
  }
 },
 "nbformat": 4,
 "nbformat_minor": 1
}
